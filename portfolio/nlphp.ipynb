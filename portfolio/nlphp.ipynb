{
 "cells": [
  {
   "cell_type": "markdown",
   "metadata": {},
   "source": [
    "The objective of this notebook is to exemplify my understanding of, and utilization of, NLP in the context of sentiment analysis. \n",
    "\n",
    "The medium of study used was J.K. Rowling's first novel, \"Harry Potter and the Sorcer's Stone\".\n",
    "\n",
    "See last cell for results."
   ]
  },
  {
   "cell_type": "code",
   "execution_count": 1,
   "metadata": {},
   "outputs": [],
   "source": [
    "import pysbd\n",
    "import spacy\n",
    "import string\n",
    "import numpy as np\n",
    "import pandas as pd\n",
    "from scipy import stats\n",
    "import matplotlib.pyplot as plt\n",
    "from sklearn.svm import LinearSVC\n",
    "from sklearn.pipeline import Pipeline\n",
    "from spacy.lang.en.stop_words import STOP_WORDS\n",
    "from sklearn.model_selection import train_test_split\n",
    "from sklearn.feature_extraction.text import TfidfVectorizer\n",
    "from sklearn.metrics import accuracy_score, classification_report, confusion_matrix"
   ]
  },
  {
   "cell_type": "markdown",
   "metadata": {},
   "source": [
    "# Step One: Build Sentiment Prediction Model"
   ]
  },
  {
   "cell_type": "markdown",
   "metadata": {},
   "source": [
    "Training datasets are from reviews of yelp, amazon, and imdb products."
   ]
  },
  {
   "cell_type": "code",
   "execution_count": 2,
   "metadata": {},
   "outputs": [],
   "source": [
    "#load model datasets\n",
    "data_yelp = pd.read_csv('yelp_labelled.txt', sep='\\t', header = None)\n",
    "data_amazon = pd.read_csv('amazon_cells_labelled.txt', sep='\\t', header = None)\n",
    "data_imdb = pd.read_csv('imdb_labelled.txt', sep='\\t', header = None)"
   ]
  },
  {
   "cell_type": "code",
   "execution_count": 3,
   "metadata": {},
   "outputs": [
    {
     "data": {
      "text/plain": [
       "(2748, 2)"
      ]
     },
     "execution_count": 3,
     "metadata": {},
     "output_type": "execute_result"
    }
   ],
   "source": [
    "#set column name for model datasets\n",
    "columns_name = ['Review', 'Sentiment']\n",
    "data_yelp.columns = columns_name\n",
    "data_amazon.columns = columns_name\n",
    "data_imdb.columns = columns_name\n",
    "\n",
    "#append datasets into one \n",
    "data = data_yelp.append([data_amazon, data_imdb], ignore_index = True)\n",
    "data.shape"
   ]
  },
  {
   "cell_type": "code",
   "execution_count": 4,
   "metadata": {},
   "outputs": [
    {
     "data": {
      "text/html": [
       "<div>\n",
       "<style scoped>\n",
       "    .dataframe tbody tr th:only-of-type {\n",
       "        vertical-align: middle;\n",
       "    }\n",
       "\n",
       "    .dataframe tbody tr th {\n",
       "        vertical-align: top;\n",
       "    }\n",
       "\n",
       "    .dataframe thead th {\n",
       "        text-align: right;\n",
       "    }\n",
       "</style>\n",
       "<table border=\"1\" class=\"dataframe\">\n",
       "  <thead>\n",
       "    <tr style=\"text-align: right;\">\n",
       "      <th></th>\n",
       "      <th>Review</th>\n",
       "      <th>Sentiment</th>\n",
       "    </tr>\n",
       "  </thead>\n",
       "  <tbody>\n",
       "    <tr>\n",
       "      <th>0</th>\n",
       "      <td>Wow... Loved this place.</td>\n",
       "      <td>1</td>\n",
       "    </tr>\n",
       "    <tr>\n",
       "      <th>1</th>\n",
       "      <td>Crust is not good.</td>\n",
       "      <td>0</td>\n",
       "    </tr>\n",
       "    <tr>\n",
       "      <th>2</th>\n",
       "      <td>Not tasty and the texture was just nasty.</td>\n",
       "      <td>0</td>\n",
       "    </tr>\n",
       "    <tr>\n",
       "      <th>3</th>\n",
       "      <td>Stopped by during the late May bank holiday of...</td>\n",
       "      <td>1</td>\n",
       "    </tr>\n",
       "    <tr>\n",
       "      <th>4</th>\n",
       "      <td>The selection on the menu was great and so wer...</td>\n",
       "      <td>1</td>\n",
       "    </tr>\n",
       "  </tbody>\n",
       "</table>\n",
       "</div>"
      ],
      "text/plain": [
       "                                              Review  Sentiment\n",
       "0                           Wow... Loved this place.          1\n",
       "1                                 Crust is not good.          0\n",
       "2          Not tasty and the texture was just nasty.          0\n",
       "3  Stopped by during the late May bank holiday of...          1\n",
       "4  The selection on the menu was great and so wer...          1"
      ]
     },
     "execution_count": 4,
     "metadata": {},
     "output_type": "execute_result"
    }
   ],
   "source": [
    "#inspect model dataset\n",
    "data.head()"
   ]
  },
  {
   "cell_type": "code",
   "execution_count": 5,
   "metadata": {},
   "outputs": [],
   "source": [
    "punct = string.punctuation\n",
    "\n",
    "nlp = spacy.load('en_core_web_sm')\n",
    "\n",
    "stopwords = list(STOP_WORDS)"
   ]
  },
  {
   "cell_type": "code",
   "execution_count": 6,
   "metadata": {},
   "outputs": [],
   "source": [
    "def text_data_cleaning(sentence):\n",
    "    doc = nlp(sentence)\n",
    "    \n",
    "    #lammentize into lower format\n",
    "    tokens = []\n",
    "    for token in doc:\n",
    "        if token.lemma_ != \"-PRON-\":\n",
    "            temp = token.lemma_.lower().strip()\n",
    "        else:\n",
    "            temp = token.lower_\n",
    "        tokens.append(temp)\n",
    "    \n",
    "    cleaned_tokens = []\n",
    "    #remove stop words\n",
    "    for token in tokens:\n",
    "        if token not in stopwords and token not in punct:\n",
    "            cleaned_tokens.append(token)\n",
    "            \n",
    "    return cleaned_tokens"
   ]
  },
  {
   "cell_type": "code",
   "execution_count": 7,
   "metadata": {},
   "outputs": [
    {
     "data": {
      "text/plain": [
       "['test', 'work', 'yeah']"
      ]
     },
     "execution_count": 7,
     "metadata": {},
     "output_type": "execute_result"
    }
   ],
   "source": [
    "text_data_cleaning(\"This is a test to see if it works, so yeah.\")"
   ]
  },
  {
   "cell_type": "code",
   "execution_count": 8,
   "metadata": {},
   "outputs": [],
   "source": [
    "tfidf = TfidfVectorizer(tokenizer = text_data_cleaning)\n",
    "classifier = LinearSVC()"
   ]
  },
  {
   "cell_type": "code",
   "execution_count": 9,
   "metadata": {},
   "outputs": [],
   "source": [
    "X = data['Review']\n",
    "y = data['Sentiment']"
   ]
  },
  {
   "cell_type": "code",
   "execution_count": 10,
   "metadata": {},
   "outputs": [],
   "source": [
    "X_train, X_test, y_train, y_test = train_test_split(X, y, test_size = 0.2, random_state = 42)"
   ]
  },
  {
   "cell_type": "code",
   "execution_count": 11,
   "metadata": {},
   "outputs": [],
   "source": [
    "clf = Pipeline([('tfidf', tfidf), ('clf', classifier)])"
   ]
  },
  {
   "cell_type": "code",
   "execution_count": 12,
   "metadata": {},
   "outputs": [
    {
     "data": {
      "text/plain": [
       "Pipeline(memory=None,\n",
       "         steps=[('tfidf',\n",
       "                 TfidfVectorizer(analyzer='word', binary=False,\n",
       "                                 decode_error='strict',\n",
       "                                 dtype=<class 'numpy.float64'>,\n",
       "                                 encoding='utf-8', input='content',\n",
       "                                 lowercase=True, max_df=1.0, max_features=None,\n",
       "                                 min_df=1, ngram_range=(1, 1), norm='l2',\n",
       "                                 preprocessor=None, smooth_idf=True,\n",
       "                                 stop_words=None, strip_accents=None,\n",
       "                                 sublinear_tf=False,\n",
       "                                 token_pattern='(?u)\\\\b\\\\w\\\\w+\\\\b',\n",
       "                                 tokenizer=<function text_data_cleaning at 0x7f9d18125cb0>,\n",
       "                                 use_idf=True, vocabulary=None)),\n",
       "                ('clf',\n",
       "                 LinearSVC(C=1.0, class_weight=None, dual=True,\n",
       "                           fit_intercept=True, intercept_scaling=1,\n",
       "                           loss='squared_hinge', max_iter=1000,\n",
       "                           multi_class='ovr', penalty='l2', random_state=None,\n",
       "                           tol=0.0001, verbose=0))],\n",
       "         verbose=False)"
      ]
     },
     "execution_count": 12,
     "metadata": {},
     "output_type": "execute_result"
    }
   ],
   "source": [
    "clf.fit(X_train, y_train)"
   ]
  },
  {
   "cell_type": "code",
   "execution_count": 13,
   "metadata": {},
   "outputs": [],
   "source": [
    "y_pred = clf.predict(X_test)"
   ]
  },
  {
   "cell_type": "code",
   "execution_count": 14,
   "metadata": {},
   "outputs": [
    {
     "name": "stdout",
     "output_type": "stream",
     "text": [
      "              precision    recall  f1-score   support\n",
      "\n",
      "           0       0.77      0.82      0.80       285\n",
      "           1       0.79      0.74      0.77       265\n",
      "\n",
      "    accuracy                           0.78       550\n",
      "   macro avg       0.78      0.78      0.78       550\n",
      "weighted avg       0.78      0.78      0.78       550\n",
      "\n"
     ]
    }
   ],
   "source": [
    "print(classification_report (y_test, y_pred))"
   ]
  },
  {
   "cell_type": "code",
   "execution_count": 15,
   "metadata": {},
   "outputs": [
    {
     "data": {
      "text/plain": [
       "array([0])"
      ]
     },
     "execution_count": 15,
     "metadata": {},
     "output_type": "execute_result"
    }
   ],
   "source": [
    "clf.predict([\"I hate this book.\"])"
   ]
  },
  {
   "cell_type": "code",
   "execution_count": 16,
   "metadata": {},
   "outputs": [
    {
     "data": {
      "text/plain": [
       "array([1])"
      ]
     },
     "execution_count": 16,
     "metadata": {},
     "output_type": "execute_result"
    }
   ],
   "source": [
    "clf.predict([\"I love this book.\"])"
   ]
  },
  {
   "cell_type": "markdown",
   "metadata": {},
   "source": [
    "# STEP TWO: Prepare Study Medium for Sentiment Analysis"
   ]
  },
  {
   "cell_type": "code",
   "execution_count": 17,
   "metadata": {},
   "outputs": [],
   "source": [
    "#load hp book\n",
    "data_hp_1 = pd.read_csv(\"Book 1 - The Philosopher's Stone.txt\", sep='\\t', header=None)"
   ]
  },
  {
   "cell_type": "code",
   "execution_count": 18,
   "metadata": {},
   "outputs": [
    {
     "data": {
      "text/html": [
       "<div>\n",
       "<style scoped>\n",
       "    .dataframe tbody tr th:only-of-type {\n",
       "        vertical-align: middle;\n",
       "    }\n",
       "\n",
       "    .dataframe tbody tr th {\n",
       "        vertical-align: top;\n",
       "    }\n",
       "\n",
       "    .dataframe thead th {\n",
       "        text-align: right;\n",
       "    }\n",
       "</style>\n",
       "<table border=\"1\" class=\"dataframe\">\n",
       "  <thead>\n",
       "    <tr style=\"text-align: right;\">\n",
       "      <th></th>\n",
       "      <th>0</th>\n",
       "    </tr>\n",
       "  </thead>\n",
       "  <tbody>\n",
       "    <tr>\n",
       "      <th>0</th>\n",
       "      <td>THE BOY WHO LIVED</td>\n",
       "    </tr>\n",
       "    <tr>\n",
       "      <th>1</th>\n",
       "      <td>Mr. and Mrs. Dursley, of number four, Privet D...</td>\n",
       "    </tr>\n",
       "    <tr>\n",
       "      <th>2</th>\n",
       "      <td>were proud to say that they were perfectly nor...</td>\n",
       "    </tr>\n",
       "    <tr>\n",
       "      <th>3</th>\n",
       "      <td>thank you very much. They were the last people...</td>\n",
       "    </tr>\n",
       "    <tr>\n",
       "      <th>4</th>\n",
       "      <td>expect to be involved in anything strange or</td>\n",
       "    </tr>\n",
       "    <tr>\n",
       "      <th>5</th>\n",
       "      <td>mysterious, because they just didn’t hold with...</td>\n",
       "    </tr>\n",
       "    <tr>\n",
       "      <th>6</th>\n",
       "      <td>nonsense.</td>\n",
       "    </tr>\n",
       "    <tr>\n",
       "      <th>7</th>\n",
       "      <td>Mr. Dursley was the director of a firm called</td>\n",
       "    </tr>\n",
       "    <tr>\n",
       "      <th>8</th>\n",
       "      <td>Grunnings, which made drills. He was a big, be...</td>\n",
       "    </tr>\n",
       "    <tr>\n",
       "      <th>9</th>\n",
       "      <td>man with hardly any neck, although he did have a</td>\n",
       "    </tr>\n",
       "    <tr>\n",
       "      <th>10</th>\n",
       "      <td>very large mustache. Mrs. Dursley was thin and</td>\n",
       "    </tr>\n",
       "    <tr>\n",
       "      <th>11</th>\n",
       "      <td>blonde and had nearly twice the usual amount of</td>\n",
       "    </tr>\n",
       "    <tr>\n",
       "      <th>12</th>\n",
       "      <td>neck, which came in very useful as she spent so</td>\n",
       "    </tr>\n",
       "    <tr>\n",
       "      <th>13</th>\n",
       "      <td>much of her time craning over garden fences, s...</td>\n",
       "    </tr>\n",
       "    <tr>\n",
       "      <th>14</th>\n",
       "      <td>on the neighbors. The Dursley s had a small son</td>\n",
       "    </tr>\n",
       "    <tr>\n",
       "      <th>15</th>\n",
       "      <td>called Dudley and in their opinion there was n...</td>\n",
       "    </tr>\n",
       "    <tr>\n",
       "      <th>16</th>\n",
       "      <td>boy anywhere.</td>\n",
       "    </tr>\n",
       "    <tr>\n",
       "      <th>17</th>\n",
       "      <td>The Dursleys had everything they wanted, but t...</td>\n",
       "    </tr>\n",
       "    <tr>\n",
       "      <th>18</th>\n",
       "      <td>also had a secret, and their greatest fear was...</td>\n",
       "    </tr>\n",
       "    <tr>\n",
       "      <th>19</th>\n",
       "      <td>somebody would discover it. They didn’t think ...</td>\n",
       "    </tr>\n",
       "  </tbody>\n",
       "</table>\n",
       "</div>"
      ],
      "text/plain": [
       "                                                    0\n",
       "0                                  THE BOY WHO LIVED \n",
       "1   Mr. and Mrs. Dursley, of number four, Privet D...\n",
       "2   were proud to say that they were perfectly nor...\n",
       "3   thank you very much. They were the last people...\n",
       "4       expect to be involved in anything strange or \n",
       "5   mysterious, because they just didn’t hold with...\n",
       "6                                          nonsense. \n",
       "7      Mr. Dursley was the director of a firm called \n",
       "8   Grunnings, which made drills. He was a big, be...\n",
       "9   man with hardly any neck, although he did have a \n",
       "10    very large mustache. Mrs. Dursley was thin and \n",
       "11   blonde and had nearly twice the usual amount of \n",
       "12   neck, which came in very useful as she spent so \n",
       "13  much of her time craning over garden fences, s...\n",
       "14   on the neighbors. The Dursley s had a small son \n",
       "15  called Dudley and in their opinion there was n...\n",
       "16                                     boy anywhere. \n",
       "17  The Dursleys had everything they wanted, but t...\n",
       "18  also had a secret, and their greatest fear was...\n",
       "19  somebody would discover it. They didn’t think ..."
      ]
     },
     "execution_count": 18,
     "metadata": {},
     "output_type": "execute_result"
    }
   ],
   "source": [
    "#inspect\n",
    "data_hp_1[:20]"
   ]
  },
  {
   "cell_type": "code",
   "execution_count": 19,
   "metadata": {},
   "outputs": [],
   "source": [
    "#set column name\n",
    "columns_name = ['col_1']\n",
    "data_hp_1.columns = columns_name"
   ]
  },
  {
   "cell_type": "code",
   "execution_count": 20,
   "metadata": {},
   "outputs": [
    {
     "data": {
      "text/plain": [
       "'THE BOY WHO LIVED Mr. and Mrs. Dursley, of number four, Privet Drive, were proud to say that they were perfectly normal, thank you very much. They were the last people you’d expect to be involved in anything strange or mysterious, because they just didn’t hold with such nonsense. Mr. Dursley was the director of a firm called Grunnings, which made drills. He was a big, beefy man with hardly any neck, although he did have a very large mustache. Mrs. Dursley was thin and blonde and had nearly twice the usual amount of neck, which came in very useful as she spent so much of her time craning over garden fences, spying on the neighbors. The Dursley s had a small son called Dudley and in their opinion there was no finer boy anywhere. The Dursleys had everything they wanted, but they also had a secret, and their greatest fear was that somebody would discover it. They didn’t think they could bear it if anyone found out about the Potters. Mrs. Potter was Mrs. Dursley’s sister, but they hadn’t me'"
      ]
     },
     "execution_count": 20,
     "metadata": {},
     "output_type": "execute_result"
    }
   ],
   "source": [
    "#pass cleaned df into one continous string, in prep for segmenter analysis\n",
    "new_str = ''\n",
    "for item in data_hp_1['col_1']:\n",
    "    new_str += item\n",
    "    \n",
    "#rename for consistency\n",
    "data_hp_1 = new_str\n",
    "new_str = None\n",
    "\n",
    "#inspect new string\n",
    "data_hp_1[:1000]"
   ]
  },
  {
   "cell_type": "code",
   "execution_count": 21,
   "metadata": {},
   "outputs": [],
   "source": [
    "#pass df through segmenter, compliments of pysbd\n",
    "seg = pysbd.Segmenter(language=\"en\", clean=False)\n",
    "data_hp_1 = seg.segment(data_hp_1)"
   ]
  },
  {
   "cell_type": "code",
   "execution_count": 22,
   "metadata": {
    "scrolled": true
   },
   "outputs": [
    {
     "data": {
      "text/plain": [
       "['THE BOY WHO LIVED Mr. and Mrs. Dursley, of number four, Privet Drive, were proud to say that they were perfectly normal, thank you very much.',\n",
       " 'They were the last people you’d expect to be involved in anything strange or mysterious, because they just didn’t hold with such nonsense.',\n",
       " 'Mr. Dursley was the director of a firm called Grunnings, which made drills.',\n",
       " 'He was a big, beefy man with hardly any neck, although he did have a very large mustache.',\n",
       " 'Mrs. Dursley was thin and blonde and had nearly twice the usual amount of neck, which came in very useful as she spent so much of her time craning over garden fences, spying on the neighbors.',\n",
       " 'The Dursley s had a small son called Dudley and in their opinion there was no finer boy anywhere.',\n",
       " 'The Dursleys had everything they wanted, but they also had a secret, and their greatest fear was that somebody would discover it.',\n",
       " 'They didn’t think they could bear it if anyone found out about the Potters.',\n",
       " 'Mrs. Potter was Mrs. Dursley’s sister, but they hadn’t met for several years; in fact, Mrs. Dursley pretended she didn’t have a sister, because her sister and her good-for-nothing husband were as unDursleyish as it was possible to be.',\n",
       " 'The Dursleys shuddered to think what the neighbors would say if the Potters arrived in the street.']"
      ]
     },
     "execution_count": 22,
     "metadata": {},
     "output_type": "execute_result"
    }
   ],
   "source": [
    "#inspect results of segmentation \n",
    "data_hp_1[:10]"
   ]
  },
  {
   "cell_type": "code",
   "execution_count": 23,
   "metadata": {},
   "outputs": [],
   "source": [
    "#convert into df\n",
    "data_hp_1 = pd.DataFrame(data_hp_1)\n",
    "\n",
    "#rename column and add blank prediction column\n",
    "columns_name = ['col_1']\n",
    "data_hp_1.columns = columns_name\n",
    "data_hp_1['predictions'] = \"\""
   ]
  },
  {
   "cell_type": "code",
   "execution_count": 24,
   "metadata": {},
   "outputs": [
    {
     "data": {
      "text/html": [
       "<div>\n",
       "<style scoped>\n",
       "    .dataframe tbody tr th:only-of-type {\n",
       "        vertical-align: middle;\n",
       "    }\n",
       "\n",
       "    .dataframe tbody tr th {\n",
       "        vertical-align: top;\n",
       "    }\n",
       "\n",
       "    .dataframe thead th {\n",
       "        text-align: right;\n",
       "    }\n",
       "</style>\n",
       "<table border=\"1\" class=\"dataframe\">\n",
       "  <thead>\n",
       "    <tr style=\"text-align: right;\">\n",
       "      <th></th>\n",
       "      <th>col_1</th>\n",
       "      <th>predictions</th>\n",
       "    </tr>\n",
       "  </thead>\n",
       "  <tbody>\n",
       "    <tr>\n",
       "      <th>0</th>\n",
       "      <td>THE BOY WHO LIVED Mr. and Mrs. Dursley, of num...</td>\n",
       "      <td></td>\n",
       "    </tr>\n",
       "    <tr>\n",
       "      <th>1</th>\n",
       "      <td>They were the last people you’d expect to be i...</td>\n",
       "      <td></td>\n",
       "    </tr>\n",
       "    <tr>\n",
       "      <th>2</th>\n",
       "      <td>Mr. Dursley was the director of a firm called ...</td>\n",
       "      <td></td>\n",
       "    </tr>\n",
       "    <tr>\n",
       "      <th>3</th>\n",
       "      <td>He was a big, beefy man with hardly any neck, ...</td>\n",
       "      <td></td>\n",
       "    </tr>\n",
       "    <tr>\n",
       "      <th>4</th>\n",
       "      <td>Mrs. Dursley was thin and blonde and had nearl...</td>\n",
       "      <td></td>\n",
       "    </tr>\n",
       "    <tr>\n",
       "      <th>5</th>\n",
       "      <td>The Dursley s had a small son called Dudley an...</td>\n",
       "      <td></td>\n",
       "    </tr>\n",
       "    <tr>\n",
       "      <th>6</th>\n",
       "      <td>The Dursleys had everything they wanted, but t...</td>\n",
       "      <td></td>\n",
       "    </tr>\n",
       "    <tr>\n",
       "      <th>7</th>\n",
       "      <td>They didn’t think they could bear it if anyone...</td>\n",
       "      <td></td>\n",
       "    </tr>\n",
       "    <tr>\n",
       "      <th>8</th>\n",
       "      <td>Mrs. Potter was Mrs. Dursley’s sister, but the...</td>\n",
       "      <td></td>\n",
       "    </tr>\n",
       "    <tr>\n",
       "      <th>9</th>\n",
       "      <td>The Dursleys shuddered to think what the neigh...</td>\n",
       "      <td></td>\n",
       "    </tr>\n",
       "  </tbody>\n",
       "</table>\n",
       "</div>"
      ],
      "text/plain": [
       "                                               col_1 predictions\n",
       "0  THE BOY WHO LIVED Mr. and Mrs. Dursley, of num...            \n",
       "1  They were the last people you’d expect to be i...            \n",
       "2  Mr. Dursley was the director of a firm called ...            \n",
       "3  He was a big, beefy man with hardly any neck, ...            \n",
       "4  Mrs. Dursley was thin and blonde and had nearl...            \n",
       "5  The Dursley s had a small son called Dudley an...            \n",
       "6  The Dursleys had everything they wanted, but t...            \n",
       "7  They didn’t think they could bear it if anyone...            \n",
       "8  Mrs. Potter was Mrs. Dursley’s sister, but the...            \n",
       "9  The Dursleys shuddered to think what the neigh...            "
      ]
     },
     "execution_count": 24,
     "metadata": {},
     "output_type": "execute_result"
    }
   ],
   "source": [
    "#inspect results of segmentation \n",
    "data_hp_1[:10]"
   ]
  },
  {
   "cell_type": "markdown",
   "metadata": {},
   "source": [
    "# Step Three: Run Sentiment Analysis and Display Results"
   ]
  },
  {
   "cell_type": "code",
   "execution_count": 25,
   "metadata": {},
   "outputs": [],
   "source": [
    "#compute and insert sentiment predictions into 'predictions' column\n",
    "\n",
    "data_pred = []\n",
    "for item in data_hp_1['col_1']:\n",
    "    pred = clf.predict([item])[0]\n",
    "    data_pred.append(pred)\n",
    "\n",
    "data_hp_1['predictions'] = data_pred\n",
    "data_pred = None"
   ]
  },
  {
   "cell_type": "code",
   "execution_count": 26,
   "metadata": {},
   "outputs": [
    {
     "data": {
      "text/html": [
       "<div>\n",
       "<style scoped>\n",
       "    .dataframe tbody tr th:only-of-type {\n",
       "        vertical-align: middle;\n",
       "    }\n",
       "\n",
       "    .dataframe tbody tr th {\n",
       "        vertical-align: top;\n",
       "    }\n",
       "\n",
       "    .dataframe thead th {\n",
       "        text-align: right;\n",
       "    }\n",
       "</style>\n",
       "<table border=\"1\" class=\"dataframe\">\n",
       "  <thead>\n",
       "    <tr style=\"text-align: right;\">\n",
       "      <th></th>\n",
       "      <th>col_1</th>\n",
       "      <th>predictions</th>\n",
       "    </tr>\n",
       "  </thead>\n",
       "  <tbody>\n",
       "    <tr>\n",
       "      <th>0</th>\n",
       "      <td>THE BOY WHO LIVED Mr. and Mrs. Dursley, of num...</td>\n",
       "      <td>1</td>\n",
       "    </tr>\n",
       "    <tr>\n",
       "      <th>1</th>\n",
       "      <td>They were the last people you’d expect to be i...</td>\n",
       "      <td>0</td>\n",
       "    </tr>\n",
       "    <tr>\n",
       "      <th>2</th>\n",
       "      <td>Mr. Dursley was the director of a firm called ...</td>\n",
       "      <td>0</td>\n",
       "    </tr>\n",
       "    <tr>\n",
       "      <th>3</th>\n",
       "      <td>He was a big, beefy man with hardly any neck, ...</td>\n",
       "      <td>0</td>\n",
       "    </tr>\n",
       "    <tr>\n",
       "      <th>4</th>\n",
       "      <td>Mrs. Dursley was thin and blonde and had nearl...</td>\n",
       "      <td>1</td>\n",
       "    </tr>\n",
       "    <tr>\n",
       "      <th>5</th>\n",
       "      <td>The Dursley s had a small son called Dudley an...</td>\n",
       "      <td>1</td>\n",
       "    </tr>\n",
       "    <tr>\n",
       "      <th>6</th>\n",
       "      <td>The Dursleys had everything they wanted, but t...</td>\n",
       "      <td>1</td>\n",
       "    </tr>\n",
       "    <tr>\n",
       "      <th>7</th>\n",
       "      <td>They didn’t think they could bear it if anyone...</td>\n",
       "      <td>0</td>\n",
       "    </tr>\n",
       "    <tr>\n",
       "      <th>8</th>\n",
       "      <td>Mrs. Potter was Mrs. Dursley’s sister, but the...</td>\n",
       "      <td>1</td>\n",
       "    </tr>\n",
       "    <tr>\n",
       "      <th>9</th>\n",
       "      <td>The Dursleys shuddered to think what the neigh...</td>\n",
       "      <td>0</td>\n",
       "    </tr>\n",
       "    <tr>\n",
       "      <th>10</th>\n",
       "      <td>The Dursleys knew that the Potters had a small...</td>\n",
       "      <td>1</td>\n",
       "    </tr>\n",
       "    <tr>\n",
       "      <th>11</th>\n",
       "      <td>This boy was another good reason for keeping t...</td>\n",
       "      <td>0</td>\n",
       "    </tr>\n",
       "    <tr>\n",
       "      <th>12</th>\n",
       "      <td>When Mr. and Mrs. Dursley woke up on the dull,...</td>\n",
       "      <td>0</td>\n",
       "    </tr>\n",
       "    <tr>\n",
       "      <th>13</th>\n",
       "      <td>Mr. Dursley hummed as he picked out his most b...</td>\n",
       "      <td>0</td>\n",
       "    </tr>\n",
       "    <tr>\n",
       "      <th>14</th>\n",
       "      <td>None of them noticed a large, tawny owl flutte...</td>\n",
       "      <td>0</td>\n",
       "    </tr>\n",
       "    <tr>\n",
       "      <th>15</th>\n",
       "      <td>At half past eight, Mr. Dursley picked up his ...</td>\n",
       "      <td>1</td>\n",
       "    </tr>\n",
       "    <tr>\n",
       "      <th>16</th>\n",
       "      <td>“Little tyke,” chortled Mr. Dursley as he left...</td>\n",
       "      <td>0</td>\n",
       "    </tr>\n",
       "    <tr>\n",
       "      <th>17</th>\n",
       "      <td>He got into his car and backed out of number f...</td>\n",
       "      <td>0</td>\n",
       "    </tr>\n",
       "    <tr>\n",
       "      <th>18</th>\n",
       "      <td>It was on the corner of the street that he not...</td>\n",
       "      <td>0</td>\n",
       "    </tr>\n",
       "    <tr>\n",
       "      <th>19</th>\n",
       "      <td>For a second, Mr. Dursley didn’t realize what ...</td>\n",
       "      <td>0</td>\n",
       "    </tr>\n",
       "  </tbody>\n",
       "</table>\n",
       "</div>"
      ],
      "text/plain": [
       "                                                col_1  predictions\n",
       "0   THE BOY WHO LIVED Mr. and Mrs. Dursley, of num...            1\n",
       "1   They were the last people you’d expect to be i...            0\n",
       "2   Mr. Dursley was the director of a firm called ...            0\n",
       "3   He was a big, beefy man with hardly any neck, ...            0\n",
       "4   Mrs. Dursley was thin and blonde and had nearl...            1\n",
       "5   The Dursley s had a small son called Dudley an...            1\n",
       "6   The Dursleys had everything they wanted, but t...            1\n",
       "7   They didn’t think they could bear it if anyone...            0\n",
       "8   Mrs. Potter was Mrs. Dursley’s sister, but the...            1\n",
       "9   The Dursleys shuddered to think what the neigh...            0\n",
       "10  The Dursleys knew that the Potters had a small...            1\n",
       "11  This boy was another good reason for keeping t...            0\n",
       "12  When Mr. and Mrs. Dursley woke up on the dull,...            0\n",
       "13  Mr. Dursley hummed as he picked out his most b...            0\n",
       "14  None of them noticed a large, tawny owl flutte...            0\n",
       "15  At half past eight, Mr. Dursley picked up his ...            1\n",
       "16  “Little tyke,” chortled Mr. Dursley as he left...            0\n",
       "17  He got into his car and backed out of number f...            0\n",
       "18  It was on the corner of the street that he not...            0\n",
       "19  For a second, Mr. Dursley didn’t realize what ...            0"
      ]
     },
     "execution_count": 26,
     "metadata": {},
     "output_type": "execute_result"
    }
   ],
   "source": [
    "#inspect\n",
    "data_hp_1[:20]"
   ]
  },
  {
   "cell_type": "code",
   "execution_count": 27,
   "metadata": {},
   "outputs": [
    {
     "data": {
      "text/plain": [
       "0    5302\n",
       "1    1775\n",
       "Name: predictions, dtype: int64"
      ]
     },
     "execution_count": 27,
     "metadata": {},
     "output_type": "execute_result"
    }
   ],
   "source": [
    "data_hp_1.predictions.value_counts()"
   ]
  },
  {
   "cell_type": "code",
   "execution_count": 28,
   "metadata": {},
   "outputs": [],
   "source": [
    "#index rows that contain chapter title\n",
    "chapter_one = data_hp_1[data_hp_1['col_1'].str.contains('THE BOY WHO LIVED')]\n",
    "chapter_two = data_hp_1[data_hp_1['col_1'].str.contains('THE VANASHIG GLASS')]\n",
    "chapter_three = data_hp_1[data_hp_1['col_1'].str.contains('THE LETTERS FROM NO ONE')]\n",
    "chapter_four = data_hp_1[data_hp_1['col_1'].str.contains('THE KEEPER OF THE KEYS')]\n",
    "chapter_five = data_hp_1[data_hp_1['col_1'].str.contains('DIAGON ALLY')]\n",
    "chapter_six = data_hp_1[data_hp_1['col_1'].str.contains('THE JOURNEY FROM PLATFORM')]\n",
    "chapter_seven = data_hp_1[data_hp_1['col_1'].str.contains('THE SORTING HAT')]\n",
    "chapter_eight = data_hp_1[data_hp_1['col_1'].str.contains('THE POTIONS MASTER')]\n",
    "chapter_nine = data_hp_1[data_hp_1['col_1'].str.contains('THE MIDNIGHT DUEL')]\n",
    "chapter_ten = data_hp_1[data_hp_1['col_1'].str.contains('HALLOWEEN')]\n",
    "chapter_eleven = data_hp_1[data_hp_1['col_1'].str.contains('QUIDDITCH')]\n",
    "chapter_twelve = data_hp_1[data_hp_1['col_1'].str.contains('THE MIRROR OF ERISED')]\n",
    "chapter_thirteen = data_hp_1[data_hp_1['col_1'].str.contains('NICHOLAS')]\n",
    "chapter_fourteen = data_hp_1[data_hp_1['col_1'].str.contains('NORBERT THE NORWEGIAN')]\n",
    "chapter_fifteen = data_hp_1[data_hp_1['col_1'].str.contains('THE FORBIDDEN FOREST')]\n",
    "chapter_sixteen = data_hp_1[data_hp_1['col_1'].str.contains('THROUGH THE TRAPDOOR')]\n",
    "chapter_seventeen = data_hp_1[data_hp_1['col_1'].str.contains('THE MAN WITH TWO FACES')]"
   ]
  },
  {
   "cell_type": "code",
   "execution_count": 29,
   "metadata": {},
   "outputs": [
    {
     "name": "stdout",
     "output_type": "stream",
     "text": [
      "Chapter: 1 starts at  1\n",
      "Chapter: 2 starts at  247\n",
      "Chapter: 3 starts at  532\n",
      "Chapter: 4 starts at  775\n",
      "Chapter: 5 starts at  958\n",
      "Chapter: 6 starts at  1340\n",
      "Chapter: 7 starts at  2022\n",
      "Chapter: 8 starts at  2717\n",
      "Chapter: 9 starts at  3173\n",
      "Chapter: 10 starts at  3557\n",
      "Chapter: 11 starts at  3813\n",
      "Chapter: 12 starts at  4030\n",
      "Chapter: 13 starts at  4376\n",
      "Chapter: 14 starts at  4610\n",
      "Chapter: 15 starts at  5151\n",
      "Chapter: 16 starts at  5944\n",
      "Chapter: 17 starts at  6782\n"
     ]
    }
   ],
   "source": [
    "#build list of indexes generated above\n",
    "chapters = [chapter_one, chapter_two, chapter_three, chapter_four, chapter_five,\n",
    "           chapter_six, chapter_seven, chapter_eight, chapter_nine, chapter_ten,\n",
    "           chapter_eleven, chapter_twelve, chapter_thirteen, chapter_fourteen,\n",
    "           chapter_fifteen, chapter_sixteen, chapter_seventeen]\n",
    "\n",
    "#parse through list and print\n",
    "temp = 0\n",
    "for item in chapters:\n",
    "    temp += 1\n",
    "    print('Chapter:',temp, 'starts at ', item.index[0]+1)"
   ]
  },
  {
   "cell_type": "code",
   "execution_count": 30,
   "metadata": {},
   "outputs": [],
   "source": [
    "#aggregate df rows relative to indexes found in above cell\n",
    "chapter_one = data_hp_1.predictions[:246]\n",
    "chapter_two = data_hp_1.predictions[247:531]\n",
    "chapter_three = data_hp_1.predictions[532:744]\n",
    "chapter_four = data_hp_1.predictions[745:957]\n",
    "chapter_five = data_hp_1.predictions[958:1339]\n",
    "chapter_six = data_hp_1.predictions[1340:2021]\n",
    "chapter_seven = data_hp_1.predictions[2022:2716]\n",
    "chapter_eight = data_hp_1.predictions[2717:3172]\n",
    "chapter_nine = data_hp_1.predictions[3173:3556]\n",
    "chapter_ten = data_hp_1.predictions[3557:3812]\n",
    "chapter_eleven = data_hp_1.predictions[3813:4029]\n",
    "chapter_twelve = data_hp_1.predictions[4030:4375]\n",
    "chapter_thirteen = data_hp_1.predictions[4376:4609]\n",
    "chapter_fourteen = data_hp_1.predictions[4610:5150]\n",
    "chapter_fifteen = data_hp_1.predictions[5151:5943]\n",
    "chapter_sixteen = data_hp_1.predictions[5944:6781]\n",
    "chapter_seventeen = data_hp_1.predictions[6782:]"
   ]
  },
  {
   "cell_type": "code",
   "execution_count": 31,
   "metadata": {},
   "outputs": [
    {
     "data": {
      "image/png": "[encoded data removed]",
      "text/plain": [
       "<Figure size 432x288 with 1 Axes>"
      ]
     },
     "metadata": {
      "needs_background": "light"
     },
     "output_type": "display_data"
    }
   ],
   "source": [
    "#plot basic figure to display sentiment distribution, per chapter\n",
    "N = 17\n",
    "pos_sent = (chapter_one.value_counts(1)[1],\n",
    "            chapter_two.value_counts(1)[1],\n",
    "            chapter_three.value_counts(1)[1],\n",
    "            chapter_four.value_counts(1)[1],\n",
    "            chapter_five.value_counts(1)[1],\n",
    "            chapter_six.value_counts(1)[1],\n",
    "            chapter_seven.value_counts(1)[1],\n",
    "            chapter_eight.value_counts(1)[1],\n",
    "            chapter_nine.value_counts(1)[1],\n",
    "            chapter_ten.value_counts(1)[1],\n",
    "            chapter_eleven.value_counts(1)[1],\n",
    "            chapter_twelve.value_counts(1)[1],\n",
    "            chapter_thirteen.value_counts(1)[1],\n",
    "            chapter_fourteen.value_counts(1)[1],\n",
    "            chapter_fifteen.value_counts(1)[1],\n",
    "            chapter_sixteen.value_counts(1)[1],\n",
    "            chapter_seventeen.value_counts(1)[1])\n",
    "\n",
    "neg_sent = (chapter_one.value_counts(1)[0],\n",
    "            chapter_two.value_counts(1)[0],\n",
    "            chapter_three.value_counts(1)[0],\n",
    "            chapter_four.value_counts(1)[0],\n",
    "            chapter_five.value_counts(1)[0],\n",
    "            chapter_six.value_counts(1)[0],\n",
    "            chapter_seven.value_counts(1)[0],\n",
    "            chapter_eight.value_counts(1)[0],\n",
    "            chapter_nine.value_counts(1)[0],\n",
    "            chapter_ten.value_counts(1)[0],\n",
    "            chapter_eleven.value_counts(1)[0],\n",
    "            chapter_twelve.value_counts(1)[0],\n",
    "            chapter_thirteen.value_counts(1)[0],\n",
    "            chapter_fourteen.value_counts(1)[0],\n",
    "            chapter_fifteen.value_counts(1)[0],\n",
    "            chapter_sixteen.value_counts(1)[0],\n",
    "            chapter_seventeen.value_counts(1)[0])\n",
    "\n",
    "ind = np.arange(N)\n",
    "width = 0.45\n",
    "\n",
    "p1 = plt.bar(ind, pos_sent, width)\n",
    "p2 = plt.bar(ind, neg_sent, width, bottom=pos_sent)\n",
    "\n",
    "plt.ylabel('% dist of sentiment')\n",
    "plt.title('Sentiment Distribution by Chapter')\n",
    "plt.xticks(ind, ('1', '2', '3', '4', '5', '6',\n",
    "                 '7', '8', '9', '10', '11', '12', \n",
    "                 '13', '14', '15', '16', '17'))\n",
    "plt.yticks(np.arange(0, 1, 0.1))\n",
    "plt.legend((p1[0], p2[0]), ('Positive', 'Negative'))\n",
    "\n",
    "plt.show()"
   ]
  },
  {
   "cell_type": "code",
   "execution_count": 32,
   "metadata": {},
   "outputs": [
    {
     "data": {
      "text/plain": [
       "array([ 1.34026579,  0.79607302,  0.43025651,  0.67761815,  1.39146099,\n",
       "       -0.32145408, -0.21737475, -0.00928609, -1.52700053,  1.25625037,\n",
       "       -0.6759997 ,  0.42918103, -1.01516353, -0.5060531 , -1.80162009,\n",
       "       -1.29078351,  1.04362952])"
      ]
     },
     "execution_count": 32,
     "metadata": {},
     "output_type": "execute_result"
    }
   ],
   "source": [
    "#pos_sent, print z-scores of each chapter\n",
    "stats.zscore(np.asarray(pos_sent))"
   ]
  },
  {
   "cell_type": "code",
   "execution_count": 33,
   "metadata": {},
   "outputs": [],
   "source": [
    "#end of notebook"
   ]
  }
 ],
 "metadata": {
  "kernelspec": {
   "display_name": "practice",
   "language": "python",
   "name": "practice"
  },
  "language_info": {
   "codemirror_mode": {
    "name": "ipython",
    "version": 3
   },
   "file_extension": ".py",
   "mimetype": "text/x-python",
   "name": "python",
   "nbconvert_exporter": "python",
   "pygments_lexer": "ipython3",
   "version": "3.7.6"
  }
 },
 "nbformat": 4,
 "nbformat_minor": 4
}
